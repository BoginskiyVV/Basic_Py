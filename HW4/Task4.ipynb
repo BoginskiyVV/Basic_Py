{
 "cells": [
  {
   "attachments": {},
   "cell_type": "markdown",
   "metadata": {},
   "source": [
    "#### Условие 1: \n",
    "<br>Задача 1\n",
    "<br>Постройте график\n",
    "<br>Назовите график\n",
    "<br>Сделайте именование оси x и оси y\n",
    "<br>Сделайте выводы"
   ]
  },
  {
   "cell_type": "code",
   "execution_count": null,
   "metadata": {},
   "outputs": [],
   "source": []
  },
  {
   "attachments": {},
   "cell_type": "markdown",
   "metadata": {},
   "source": [
    "1.1. Данные из прошлого дз"
   ]
  },
  {
   "attachments": {},
   "cell_type": "markdown",
   "metadata": {},
   "source": [
    "1.2 Изучите стоимости недвижимости"
   ]
  },
  {
   "attachments": {},
   "cell_type": "markdown",
   "metadata": {},
   "source": [
    "1.3 Изучите распределение квадратуры жилой"
   ]
  },
  {
   "attachments": {},
   "cell_type": "markdown",
   "metadata": {},
   "source": [
    "1.4 Изучите распределение года постройки"
   ]
  },
  {
   "attachments": {},
   "cell_type": "markdown",
   "metadata": {},
   "source": [
    "Условие 2: <br> 2 задача\n",
    "<br>2.1 Изучите распределение домов от наличия вида на набережную\n",
    "<br>Постройте график\n",
    "<br>Сделайте выводы"
   ]
  },
  {
   "attachments": {},
   "cell_type": "markdown",
   "metadata": {},
   "source": [
    "2.2 Изучите распределение этажей домов"
   ]
  },
  {
   "attachments": {},
   "cell_type": "markdown",
   "metadata": {},
   "source": [
    "2.2 Изучите распределение состояния домов"
   ]
  },
  {
   "attachments": {},
   "cell_type": "markdown",
   "metadata": {},
   "source": [
    "Условие 3: <br> 3 задача\n",
    "<br> Исследуйте, какие характеристики недвижимости влияют на стоимость недвижимости, с применением не менее 5 диаграмм из урока.\n",
    "<br> Анализ сделайте в формате storytelling: дополнить каждый график письменными выводами и наблюдениями."
   ]
  },
  {
   "cell_type": "markdown",
   "metadata": {},
   "source": []
  }
 ],
 "metadata": {
  "language_info": {
   "name": "python"
  },
  "orig_nbformat": 4
 },
 "nbformat": 4,
 "nbformat_minor": 2
}
